{
 "cells": [
  {
   "cell_type": "markdown",
   "id": "aa81afd0-abdc-4bb9-ba06-c6eed54ac4a5",
   "metadata": {},
   "source": [
    "# 📊 Personal Finance Tracker\n",
    "\n",
    "## 📌 Overview\n",
    "This project is a **Personal Finance Tracker** built using Python.  \n",
    "It allows users to:\n",
    "- **Add transactions** (Income & Expenses)\n",
    "- **View a financial summary**\n",
    "- **Save transactions to a CSV file**\n",
    "- **Exit the program when done**\n",
    "\n",
    "## 📌 Required Libraries\n",
    "Make sure you have these installed:\n",
    "```python\n",
    "!pip install pandas\n"
   ]
  },
  {
   "cell_type": "code",
   "execution_count": null,
   "id": "55bf15f1-8fe9-4619-96f0-b850d9d7b462",
   "metadata": {
    "jp-MarkdownHeadingCollapsed": true,
    "scrolled": true
   },
   "outputs": [
    {
     "name": "stdout",
     "output_type": "stream",
     "text": [
      "📊Personal Finance Tracker\n",
      "1️⃣. Add Income\n",
      "2️⃣. Add Expense\n",
      "3️⃣. View Financial Summary\n",
      "4️⃣. Save Transactions\n",
      "5️⃣. Exit\n"
     ]
    },
    {
     "name": "stdin",
     "output_type": "stream",
     "text": [
      "Select an option (1-5):  1\n",
      "Enter income:  1000\n",
      "Enter income category (e.g., Salary Bonus):  3\n",
      "Enter income description:  love\n"
     ]
    },
    {
     "name": "stdout",
     "output_type": "stream",
     "text": [
      "✅Income recorded successfully!\n",
      "📊Personal Finance Tracker\n",
      "1️⃣. Add Income\n",
      "2️⃣. Add Expense\n",
      "3️⃣. View Financial Summary\n",
      "4️⃣. Save Transactions\n",
      "5️⃣. Exit\n"
     ]
    }
   ],
   "source": [
    "from datetime import datetime\n",
    "\n",
    "# Initialize transactions dictionary\n",
    "transactions = {\"income\": [], \"expenses\": []}\n",
    "\n",
    "# Function to add an income\n",
    "def add_income():\n",
    "    amount = float(input(\"Enter income: \"))\n",
    "    category = input(\"Enter income category (e.g., Salary Bonus): \")\n",
    "    description = input(\"Enter income description: \")\n",
    "    date = datetime.today().strftime('%Y-%m-%d') # Get today's date\n",
    "\n",
    "     # Append to the 'income' list\n",
    "    transactions[\"income\"].append((amount, category, description, date))\n",
    "    print(\"✅Income recorded successfully!\")\n",
    "\n",
    "# Function to add an expense\n",
    "def add_expense():\n",
    "    amount = float(input(\"Enter expense amount: \"))\n",
    "    category = input(\"Enter expense category (e.g., Food, Rent, Transport): \")\n",
    "    description = input(\"Enter a description for the expense: \")\n",
    "    date = datetime.today().strftime('%Y-%m-%d')\n",
    "\n",
    "      # Append to the 'expenses' list\n",
    "    transactions[\"expenses\"].append((amount, category, description, date))\n",
    "    print(\"❌Expense recorded successfully!\")  \n",
    "\n",
    "def view_summary():\n",
    "\n",
    "    total_income = sum(item[0] for item in transactions[\"income\"])\n",
    "    total_expenses = sum(item[0] for item in transactions[\"expenses\"])\n",
    "    balance = total_income - total_expenses\n",
    "    \n",
    "    print(\"\\n----💰Financial Summary💰.----\")\n",
    "    print(f\"Total Income: ${total_income:.2f}\")\n",
    "    print(f\"Total Expenses: ${total_expenses:.2f}\")\n",
    "    print(f\"Current Balance: ${balance:.2f}\")\n",
    "    print(\"-----------------------------\\n\")\n",
    "    \n",
    "import csv\n",
    "\n",
    "def save_transactions():\n",
    "    with open(\"transactions.csv\", \"w\", newline=\"\") as file:\n",
    "        writer = csv.writer(file)\n",
    "        # Write the header\n",
    "        writer.writerow([\"Transaction Type\", \"Amount\", \"Category\", \"Description\", \"Date\"])\n",
    "        \n",
    "        # Write income transactions\n",
    "        for income in transactions[\"income\"]:\n",
    "            writer.writerow([\"Income\", income[0], income[1], income[2], income[3]])\n",
    "        \n",
    "        # Write expense transactions\n",
    "        for expense in transactions[\"expenses\"]:\n",
    "            writer.writerow([\"Expense\", expense[0], expense[1], expense[2], expense[3]])\n",
    "    \n",
    "    print(\"📂Transactions saved to transactions.csv!\")\n",
    "\n",
    "def main_menu():\n",
    "    while True:\n",
    "        print(\"📊Personal Finance Tracker\")\n",
    "        print(\"1️⃣. Add Income\")\n",
    "        print(\"2️⃣. Add Expense\")\n",
    "        print(\"3️⃣. View Financial Summary\")\n",
    "        print(\"4️⃣. Save Transactions\")\n",
    "        print(\"5️⃣. Exit\")\n",
    "        \n",
    "        choice = input(\"Select an option (1-5): \")\n",
    "        \n",
    "        if choice == \"1\":\n",
    "            add_income()\n",
    "        elif choice == \"2\":\n",
    "            add_expense()\n",
    "        elif choice == \"3\":\n",
    "            view_summary()\n",
    "        elif choice == \"4\":\n",
    "            save_transactions()\n",
    "        elif choice == \"5\":\n",
    "            print(\"🔒Exiting the Personal Finance Tracker. Goodbye!\")\n",
    "            break\n",
    "        else:\n",
    "            print(\"❌Invalid option. Please try again.\")\n",
    "\n",
    "if __name__ == \"__main__\":\n",
    "    main_menu()\n"
   ]
  },
  {
   "cell_type": "markdown",
   "id": "139f7b9f-320b-4373-ab28-11df1d92ee41",
   "metadata": {},
   "source": [
    "## 📌 Summary & Next Steps\n",
    "\n",
    "### What We Did:\n",
    "✅ Added transactions (Income & Expenses).  \n",
    "✅ Stored transactions in a CSV file.  \n",
    "✅ Retrieved and displayed transactions from the file.  \n",
    "✅ Calculated total balance (Income - Expenses).  \n",
    "\n",
    "### Future Improvements:\n",
    "- Add a **graph** to visualize spending trends.\n",
    "- Create a **GUI** for user-friendly input.\n",
    "- Implement **filters** (e.g., show transactions by date or category).\n",
    "\n",
    "### 💡 Thank you for using this Finance Tracker! 🚀\n"
   ]
  }
 ],
 "metadata": {
  "kernelspec": {
   "display_name": "Python 3 (ipykernel)",
   "language": "python",
   "name": "python3"
  },
  "language_info": {
   "codemirror_mode": {
    "name": "ipython",
    "version": 3
   },
   "file_extension": ".py",
   "mimetype": "text/x-python",
   "name": "python",
   "nbconvert_exporter": "python",
   "pygments_lexer": "ipython3",
   "version": "3.13.2"
  }
 },
 "nbformat": 4,
 "nbformat_minor": 5
}
